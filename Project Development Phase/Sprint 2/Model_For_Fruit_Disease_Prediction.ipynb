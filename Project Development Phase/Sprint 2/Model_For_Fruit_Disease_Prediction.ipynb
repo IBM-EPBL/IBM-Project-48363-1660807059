{
 "cells": [
  {
   "cell_type": "markdown",
   "metadata": {
    "id": "7c121b05"
   },
   "source": [
    "# Import The Libraries"
   ]
  },
  {
   "cell_type": "code",
   "execution_count": 1,
   "metadata": {
    "colab": {
     "base_uri": "https://localhost:8080/",
     "height": 373
    },
    "executionInfo": {
     "elapsed": 21,
     "status": "error",
     "timestamp": 1667983810866,
     "user": {
      "displayName": "19CS035 Pradesh Kumar.J",
      "userId": "17569919606832755751"
     },
     "user_tz": -330
    },
    "id": "6329334e",
    "outputId": "c29d02bb-d6dc-4c1f-e970-e70dea5b80b0"
   },
   "outputs": [],
   "source": [
    "import numpy as np\n",
    "from keras.models import Sequential\n",
    "from keras.layers import Conv2D\n",
    "from keras.layers import MaxPooling2D\n",
    "from keras.layers import Activation, Flatten, Dropout, Dense\n",
    "from keras import backend as K\n",
    "from keras.preprocessing.image import ImageDataGenerator\n",
    "from keras.preprocessing import image\n",
    "from keras.utils import img_to_array\n",
    "from keras.utils import load_img\n",
    "import matplotlib.pyplot as plt\n",
    "from glob import glob\n",
    "import os\n",
    "from skimage import io\n",
    "import os\n",
    "from PIL import Image"
   ]
  },
  {
   "cell_type": "code",
   "execution_count": 2,
   "metadata": {
    "id": "03eb1dd1"
   },
   "outputs": [],
   "source": [
    "folders=glob(r'C:\\Users\\admin\\Desktop\\7 Semester\\IBM_Project\\Final Deliverables\\Code_Project_Structure\\Dataset Plant Disease\\fruit-dataset\\fruit-dataset\\train\\*')"
   ]
  },
  {
   "cell_type": "code",
   "execution_count": 3,
   "metadata": {
    "id": "17059a8f",
    "outputId": "c48bf3e4-2796-48f4-ced2-fbeda5517ff9"
   },
   "outputs": [
    {
     "name": "stdout",
     "output_type": "stream",
     "text": [
      "1 . Apple___Black_rot\n",
      "\n",
      "2 . Apple___healthy\n",
      "\n",
      "3 . Corn_(maize)___healthy\n",
      "\n",
      "4 . Corn_(maize)___Northern_Leaf_Blight\n",
      "\n",
      "5 . Peach___Bacterial_spot\n",
      "\n",
      "6 . Peach___healthy\n",
      "\n"
     ]
    }
   ],
   "source": [
    "classes=[]\n",
    "a=0\n",
    "for i in folders:\n",
    "    a=a+1\n",
    "    print(a,end=\"\")\n",
    "    classes.append(i[144:])\n",
    "    print(\" . \"+i[144:]+\"\\n\")"
   ]
  },
  {
   "cell_type": "code",
   "execution_count": 4,
   "metadata": {
    "id": "9e7d499b"
   },
   "outputs": [],
   "source": [
    "width=128\n",
    "height=128\n",
    "depth=3\n",
    "inputShape = (depth, height, width)"
   ]
  },
  {
   "cell_type": "markdown",
   "metadata": {
    "id": "1548c929"
   },
   "source": [
    "# Initializing The Model"
   ]
  },
  {
   "cell_type": "code",
   "execution_count": 5,
   "metadata": {
    "id": "2ce0c7cd"
   },
   "outputs": [],
   "source": [
    "model = Sequential()"
   ]
  },
  {
   "cell_type": "markdown",
   "metadata": {
    "id": "417dd5c2"
   },
   "source": [
    "# ADD CNN Layers"
   ]
  },
  {
   "cell_type": "code",
   "execution_count": 6,
   "metadata": {
    "id": "23b1c657"
   },
   "outputs": [],
   "source": [
    "model.add(Conv2D(32, (3, 3),input_shape=(128,128,3),activation='relu'))\n",
    "model.add(MaxPooling2D(pool_size=(2, 2)))\n",
    "model.add(Dropout(0.25))\n",
    "model.add(Conv2D(64, (3, 3),input_shape=(128,128,3),activation='relu'))\n",
    "model.add(Conv2D(64, (3, 3),input_shape=(128,128,3),activation='relu'))\n",
    "model.add(MaxPooling2D(pool_size=(2, 2)))\n",
    "model.add(Dropout(0.25))\n",
    "model.add(Conv2D(128, (3, 3),input_shape=(128,128,3),activation='relu'))\n",
    "model.add(Conv2D(128, (3, 3),input_shape=(128,128,3),activation='relu'))\n",
    "model.add(MaxPooling2D(pool_size=(2, 2)))\n",
    "model.add(Dropout(0.25))\n",
    "model.add(Flatten())"
   ]
  },
  {
   "cell_type": "code",
   "execution_count": 7,
   "metadata": {
    "id": "c4e10d9d"
   },
   "outputs": [],
   "source": [
    "model.add(Dense (units= 40,activation = 'relu'))\n",
    "model.add(Dense (units= 20,activation = 'relu')) \n",
    "model.add(Dense (units= 6, activation = 'softmax'))"
   ]
  },
  {
   "cell_type": "code",
   "execution_count": 8,
   "metadata": {
    "id": "c777f3a4",
    "outputId": "9d84f334-6d74-4e2a-c7e4-5cba2fdf4a67"
   },
   "outputs": [
    {
     "name": "stdout",
     "output_type": "stream",
     "text": [
      "Model: \"sequential\"\n",
      "_________________________________________________________________\n",
      " Layer (type)                Output Shape              Param #   \n",
      "=================================================================\n",
      " conv2d (Conv2D)             (None, 126, 126, 32)      896       \n",
      "                                                                 \n",
      " max_pooling2d (MaxPooling2D  (None, 63, 63, 32)       0         \n",
      " )                                                               \n",
      "                                                                 \n",
      " dropout (Dropout)           (None, 63, 63, 32)        0         \n",
      "                                                                 \n",
      " conv2d_1 (Conv2D)           (None, 61, 61, 64)        18496     \n",
      "                                                                 \n",
      " conv2d_2 (Conv2D)           (None, 59, 59, 64)        36928     \n",
      "                                                                 \n",
      " max_pooling2d_1 (MaxPooling  (None, 29, 29, 64)       0         \n",
      " 2D)                                                             \n",
      "                                                                 \n",
      " dropout_1 (Dropout)         (None, 29, 29, 64)        0         \n",
      "                                                                 \n",
      " conv2d_3 (Conv2D)           (None, 27, 27, 128)       73856     \n",
      "                                                                 \n",
      " conv2d_4 (Conv2D)           (None, 25, 25, 128)       147584    \n",
      "                                                                 \n",
      " max_pooling2d_2 (MaxPooling  (None, 12, 12, 128)      0         \n",
      " 2D)                                                             \n",
      "                                                                 \n",
      " dropout_2 (Dropout)         (None, 12, 12, 128)       0         \n",
      "                                                                 \n",
      " flatten (Flatten)           (None, 18432)             0         \n",
      "                                                                 \n",
      " dense (Dense)               (None, 40)                737320    \n",
      "                                                                 \n",
      " dense_1 (Dense)             (None, 20)                820       \n",
      "                                                                 \n",
      " dense_2 (Dense)             (None, 6)                 126       \n",
      "                                                                 \n",
      "=================================================================\n",
      "Total params: 1,016,026\n",
      "Trainable params: 1,016,026\n",
      "Non-trainable params: 0\n",
      "_________________________________________________________________\n"
     ]
    }
   ],
   "source": [
    "model.summary()"
   ]
  },
  {
   "cell_type": "code",
   "execution_count": 9,
   "metadata": {
    "id": "d3290f36"
   },
   "outputs": [],
   "source": [
    "train_datagen = ImageDataGenerator (rescale = 1./255, shear_range= 0.2,zoom_range= 0.2, horizontal_flip = True) \n",
    "test_datagen =ImageDataGenerator (rescale = 1)"
   ]
  },
  {
   "cell_type": "markdown",
   "metadata": {
    "id": "7bcffee5"
   },
   "source": [
    "# Preprocess The Images"
   ]
  },
  {
   "cell_type": "code",
   "execution_count": 10,
   "metadata": {
    "id": "c84ae2f3",
    "outputId": "6f0292b8-6f89-4b4f-da5b-124522058c0d"
   },
   "outputs": [
    {
     "name": "stdout",
     "output_type": "stream",
     "text": [
      "Found 5384 images belonging to 6 classes.\n",
      "Found 1686 images belonging to 6 classes.\n"
     ]
    }
   ],
   "source": [
    "train_datagen = ImageDataGenerator(rescale = 1./255, shear_range= 0.2,zoom_range= 0.2, horizontal_flip = True)\n",
    "\n",
    "test_datagen = ImageDataGenerator(rescale = 1)\n",
    "\n",
    "x_train = train_datagen.flow_from_directory(r'C:\\Users\\admin\\Desktop\\7 Semester\\IBM_Project\\Final Deliverables\\Code_Project_Structure\\Dataset Plant Disease\\fruit-dataset\\fruit-dataset\\train',target_size=(128,128),batch_size=16, class_mode='categorical')\n",
    "\n",
    "x_test = test_datagen.flow_from_directory(r'C:\\Users\\admin\\Desktop\\7 Semester\\IBM_Project\\Final Deliverables\\Code_Project_Structure\\Dataset Plant Disease\\fruit-dataset\\fruit-dataset\\test',target_size=(128,128),batch_size=16, class_mode='categorical')"
   ]
  },
  {
   "cell_type": "markdown",
   "metadata": {
    "id": "329651b7"
   },
   "source": [
    "#  Compile the model"
   ]
  },
  {
   "cell_type": "code",
   "execution_count": 11,
   "metadata": {
    "id": "14335020"
   },
   "outputs": [],
   "source": [
    "model.compile(\n",
    "    loss='categorical_crossentropy',\n",
    "    optimizer='adam',\n",
    "    metrics=['accuracy']\n",
    ")"
   ]
  },
  {
   "cell_type": "markdown",
   "metadata": {
    "id": "aeadbfed"
   },
   "source": [
    "# Fit the Model"
   ]
  },
  {
   "cell_type": "code",
   "execution_count": 12,
   "metadata": {
    "id": "0c958195",
    "outputId": "650af0f6-307c-42cf-f716-e821b82515ae"
   },
   "outputs": [
    {
     "name": "stdout",
     "output_type": "stream",
     "text": [
      "Epoch 1/8\n",
      "168/168 [==============================] - 197s 1s/step - loss: 1.4121 - accuracy: 0.4312 - val_loss: 42.0867 - val_accuracy: 0.6797\n",
      "Epoch 2/8\n",
      "168/168 [==============================] - 173s 1s/step - loss: 0.7222 - accuracy: 0.7205 - val_loss: 285.5702 - val_accuracy: 0.5231\n",
      "Epoch 3/8\n",
      "168/168 [==============================] - 178s 1s/step - loss: 0.4952 - accuracy: 0.8218 - val_loss: 340.5855 - val_accuracy: 0.5368\n",
      "Epoch 4/8\n",
      "168/168 [==============================] - 215s 1s/step - loss: 0.3373 - accuracy: 0.8795 - val_loss: 398.4551 - val_accuracy: 0.6062\n",
      "Epoch 5/8\n",
      "168/168 [==============================] - 261s 2s/step - loss: 0.4278 - accuracy: 0.8590 - val_loss: 357.4659 - val_accuracy: 0.5291\n",
      "Epoch 6/8\n",
      "168/168 [==============================] - 220s 1s/step - loss: 0.2910 - accuracy: 0.8999 - val_loss: 452.5112 - val_accuracy: 0.5190\n",
      "Epoch 7/8\n",
      "168/168 [==============================] - 297s 2s/step - loss: 0.2709 - accuracy: 0.9067 - val_loss: 419.2333 - val_accuracy: 0.5267\n",
      "Epoch 8/8\n",
      "168/168 [==============================] - 666s 4s/step - loss: 0.2268 - accuracy: 0.9174 - val_loss: 578.0518 - val_accuracy: 0.4929\n"
     ]
    }
   ],
   "source": [
    "history=model.fit(x_train,steps_per_epoch = 168,epochs = 8,validation_data=x_test)"
   ]
  },
  {
   "cell_type": "code",
   "execution_count": 13,
   "metadata": {
    "id": "77e1f926",
    "outputId": "5c79fb1d-1212-4345-fa4a-8b681c555a26"
   },
   "outputs": [
    {
     "name": "stdout",
     "output_type": "stream",
     "text": [
      "{0: 'Apple___Black_rot', 1: 'Apple___healthy', 2: 'Corn_(maize)___Northern_Leaf_Blight', 3: 'Corn_(maize)___healthy', 4: 'Peach___Bacterial_spot', 5: 'Peach___healthy'}\n"
     ]
    }
   ],
   "source": [
    "ref=dict(zip(list(x_train.class_indices.values()),list(x_train.class_indices.keys())))\n",
    "print(ref)"
   ]
  },
  {
   "cell_type": "markdown",
   "metadata": {
    "id": "8ae896b6"
   },
   "source": [
    "#  Save the Model"
   ]
  },
  {
   "cell_type": "code",
   "execution_count": 14,
   "metadata": {
    "id": "733b473c"
   },
   "outputs": [],
   "source": [
    "model.save(\"fruit.h5\")"
   ]
  },
  {
   "cell_type": "markdown",
   "metadata": {
    "id": "439b93ef"
   },
   "source": [
    "# Load the Model"
   ]
  },
  {
   "cell_type": "code",
   "execution_count": 15,
   "metadata": {
    "id": "804f127b",
    "outputId": "d3655e00-3b13-44ab-e475-185e57183306"
   },
   "outputs": [
    {
     "name": "stdout",
     "output_type": "stream",
     "text": [
      "Loaded\n"
     ]
    }
   ],
   "source": [
    "from tensorflow import keras\n",
    "loaded=keras.models.load_model(\"fruit.h5\")\n",
    "print(\"Loaded\")"
   ]
  },
  {
   "cell_type": "code",
   "execution_count": 16,
   "metadata": {
    "id": "0636087b"
   },
   "outputs": [],
   "source": [
    "def predictionn(path):\n",
    "    prob=[]\n",
    "    import pandas as pd\n",
    "    a=load_img(path,target_size=(128,128,3))\n",
    "    a=img_to_array(a)\n",
    "    plt.imshow(a/255)\n",
    "    plt.show()\n",
    "    img = np.array(a)\n",
    "    #img=image.load_img(path,target_size=(256,256,3))\n",
    "    #i=image.img_to_array(img)\n",
    "    i=np.expand_dims(img,axis=0)\n",
    "    p=loaded.predict(i)\n",
    "\n",
    "    pred=np.argmax(p)\n",
    "    \n",
    "    m=0\n",
    "    s=['Apple___Black_rot','Apple___healthy','Corn_(maize)___Northern_Leaf_Blight','Corn_(maize)___healthy',\n",
    "       'Peach___Bacterial_spot','Peach___healthy']\n",
    "\n",
    "    for i in p:\n",
    "        for j in i:\n",
    "            #j=round(j,3)\n",
    "            prob.append(str(int(j*100))+\"%\")\n",
    "    ds=pd.DataFrame(prob,s)\n",
    "    ds.columns=[\"Values\"]\n",
    "    print(ds)\n",
    "    \n",
    "    prob.sort(reverse=True)\n",
    "    if pred not in (3,5):\n",
    "        print(f\"\\nLeaves are affected by the disease :: {ref[pred]} : {prob[0]}\")\n",
    "    else:\n",
    "        print(f\"\\n{ref[pred]} : {prob[0]}\")\n",
    "    \n",
    "    \n",
    "    #FERTILIZER RECOMMENDATION\n",
    "    \n",
    "#     if((solution[ref[pred]])!=\"\"):\n",
    "#         print(\"\\nSolution:\\n\")\n",
    "#         print(solution[ref[pred]])\n",
    "#     else:\n",
    "#         print(\"As far as plants are healthy!!!\")"
   ]
  },
  {
   "cell_type": "code",
   "execution_count": 17,
   "metadata": {
    "id": "49d9dcff",
    "outputId": "f0e0a357-bb30-4261-fd77-89c898130acf",
    "scrolled": true
   },
   "outputs": [
    {
     "data": {
      "image/png": "[encoded data removed]",
      "text/plain": [
       "<Figure size 432x288 with 1 Axes>"
      ]
     },
     "metadata": {
      "needs_background": "light"
     },
     "output_type": "display_data"
    },
    {
     "name": "stdout",
     "output_type": "stream",
     "text": [
      "1/1 [==============================] - 1s 1s/step\n",
      "                                    Values\n",
      "Apple___Black_rot                       0%\n",
      "Apple___healthy                         0%\n",
      "Corn_(maize)___Northern_Leaf_Blight     0%\n",
      "Corn_(maize)___healthy                  0%\n",
      "Peach___Bacterial_spot                100%\n",
      "Peach___healthy                         0%\n",
      "\n",
      "Leaves are affected by the disease :: Peach___Bacterial_spot : 100%\n"
     ]
    }
   ],
   "source": [
    "path=r\"C:\\Users\\admin\\Desktop\\7 Semester\\IBM_Project\\Final Deliverables\\Code_Project_Structure\\Fruit_Test.png\"\n",
    "predictionn(path)"
   ]
  }
 ],
 "metadata": {
  "colab": {
   "provenance": []
  },
  "kernelspec": {
   "display_name": "Python 3",
   "language": "python",
   "name": "python3"
  },
  "language_info": {
   "codemirror_mode": {
    "name": "ipython",
    "version": 3
   },
   "file_extension": ".py",
   "mimetype": "text/x-python",
   "name": "python",
   "nbconvert_exporter": "python",
   "pygments_lexer": "ipython3",
   "version": "3.8.5"
  }
 },
 "nbformat": 4,
 "nbformat_minor": 5
}
