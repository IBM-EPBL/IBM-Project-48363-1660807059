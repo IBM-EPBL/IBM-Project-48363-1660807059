{
 "cells": [
  {
   "cell_type": "markdown",
   "metadata": {},
   "source": [
    "# Import Libraries"
   ]
  },
  {
   "cell_type": "code",
   "execution_count": 1,
   "metadata": {},
   "outputs": [],
   "source": [
    "from glob import glob\n",
    "from keras.preprocessing.image import ImageDataGenerator"
   ]
  },
  {
   "cell_type": "code",
   "execution_count": 2,
   "metadata": {},
   "outputs": [],
   "source": [
    "folders=glob(r'C:\\Users\\admin\\Desktop\\7 Semester\\IBM_Project\\Final Deliverables\\Code_Project_Structure\\Dataset Plant Disease\\fruit-dataset\\fruit-dataset\\train\\*')"
   ]
  },
  {
   "cell_type": "code",
   "execution_count": 3,
   "metadata": {},
   "outputs": [
    {
     "name": "stdout",
     "output_type": "stream",
     "text": [
      "1 . Apple___Black_rot\n",
      "\n",
      "2 . Apple___healthy\n",
      "\n",
      "3 . Corn_(maize)___healthy\n",
      "\n",
      "4 . Corn_(maize)___Northern_Leaf_Blight\n",
      "\n",
      "5 . Peach___Bacterial_spot\n",
      "\n",
      "6 . Peach___healthy\n",
      "\n"
     ]
    }
   ],
   "source": [
    "classes=[]\n",
    "a=0\n",
    "for i in folders:\n",
    "    a=a+1\n",
    "    print(a,end=\"\")\n",
    "    classes.append(i[144:])\n",
    "    print(\" . \"+i[144:]+\"\\n\")"
   ]
  },
  {
   "cell_type": "markdown",
   "metadata": {},
   "source": [
    "# Preprocess The Images"
   ]
  },
  {
   "cell_type": "code",
   "execution_count": 4,
   "metadata": {},
   "outputs": [
    {
     "name": "stdout",
     "output_type": "stream",
     "text": [
      "Found 5384 images belonging to 6 classes.\n",
      "Found 1686 images belonging to 6 classes.\n"
     ]
    }
   ],
   "source": [
    "train_datagen = ImageDataGenerator(rescale = 1./255, shear_range= 0.2,zoom_range= 0.2, horizontal_flip = True)\n",
    "\n",
    "test_datagen = ImageDataGenerator(rescale = 1)\n",
    "\n",
    "x_train = train_datagen.flow_from_directory(r'C:\\Users\\admin\\Desktop\\7 Semester\\IBM_Project\\Final Deliverables\\Code_Project_Structure\\Dataset Plant Disease\\fruit-dataset\\fruit-dataset\\train',target_size=(128,128),batch_size=16, class_mode='categorical')\n",
    "\n",
    "x_test = test_datagen.flow_from_directory(r'C:\\Users\\admin\\Desktop\\7 Semester\\IBM_Project\\Final Deliverables\\Code_Project_Structure\\Dataset Plant Disease\\fruit-dataset\\fruit-dataset\\test',target_size=(128,128),batch_size=16, class_mode='categorical')"
   ]
  }
 ],
 "metadata": {
  "kernelspec": {
   "display_name": "Python 3",
   "language": "python",
   "name": "python3"
  },
  "language_info": {
   "codemirror_mode": {
    "name": "ipython",
    "version": 3
   },
   "file_extension": ".py",
   "mimetype": "text/x-python",
   "name": "python",
   "nbconvert_exporter": "python",
   "pygments_lexer": "ipython3",
   "version": "3.8.5"
  }
 },
 "nbformat": 4,
 "nbformat_minor": 4
}
