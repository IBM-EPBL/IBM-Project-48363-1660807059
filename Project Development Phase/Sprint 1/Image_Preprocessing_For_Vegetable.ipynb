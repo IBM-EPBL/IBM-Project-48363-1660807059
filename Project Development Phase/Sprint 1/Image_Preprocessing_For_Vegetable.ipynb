{
 "cells": [
  {
   "cell_type": "markdown",
   "metadata": {},
   "source": [
    "# Import Libraries"
   ]
  },
  {
   "cell_type": "code",
   "execution_count": 1,
   "metadata": {},
   "outputs": [],
   "source": [
    "from glob import glob\n",
    "from keras.preprocessing.image import ImageDataGenerator"
   ]
  },
  {
   "cell_type": "code",
   "execution_count": 2,
   "metadata": {},
   "outputs": [],
   "source": [
    "folders=glob(r'C:\\Users\\admin\\Desktop\\7 Semester\\IBM_Project\\Final Deliverables\\Code_Project_Structure\\Dataset Plant Disease\\Veg-dataset\\Veg-dataset\\train_set\\*')"
   ]
  },
  {
   "cell_type": "code",
   "execution_count": 3,
   "metadata": {},
   "outputs": [
    {
     "name": "stdout",
     "output_type": "stream",
     "text": [
      "1 . Pepper,_bell___Bacterial_spot\n",
      "\n",
      "2 . Pepper,_bell___healthy\n",
      "\n",
      "3 . Potato___Early_blight\n",
      "\n",
      "4 . Potato___healthy\n",
      "\n",
      "5 . Potato___Late_blight\n",
      "\n",
      "6 . Tomato___Bacterial_spot\n",
      "\n",
      "7 . Tomato___Late_blight\n",
      "\n",
      "8 . Tomato___Leaf_Mold\n",
      "\n",
      "9 . Tomato___Septoria_leaf_spot\n",
      "\n"
     ]
    }
   ],
   "source": [
    "classes=[]\n",
    "a=0\n",
    "for i in folders:\n",
    "    a=a+1\n",
    "    print(a,end=\"\")\n",
    "    classes.append(i[144:])\n",
    "    print(\" . \"+i[144:]+\"\\n\")"
   ]
  },
  {
   "cell_type": "markdown",
   "metadata": {},
   "source": [
    "# Preprocess The Images"
   ]
  },
  {
   "cell_type": "code",
   "execution_count": 4,
   "metadata": {},
   "outputs": [
    {
     "name": "stdout",
     "output_type": "stream",
     "text": [
      "Found 11386 images belonging to 9 classes.\n",
      "Found 3416 images belonging to 9 classes.\n"
     ]
    }
   ],
   "source": [
    "train_datagen = ImageDataGenerator(rescale = 1./255, shear_range= 0.2,zoom_range= 0.2, horizontal_flip = True)\n",
    "\n",
    "test_datagen = ImageDataGenerator(rescale = 1)\n",
    "\n",
    "x_train = train_datagen.flow_from_directory(r'C:\\Users\\admin\\Desktop\\7 Semester\\IBM_Project\\Final Deliverables\\Code_Project_Structure\\Dataset Plant Disease\\Veg-dataset\\Veg-dataset\\train_set',target_size=(128,128),batch_size=16, class_mode='categorical')\n",
    "\n",
    "x_test = test_datagen.flow_from_directory(r'C:\\Users\\admin\\Desktop\\7 Semester\\IBM_Project\\Final Deliverables\\Code_Project_Structure\\Dataset Plant Disease\\Veg-dataset\\Veg-dataset\\test_set',target_size=(128,128),batch_size=16, class_mode='categorical')"
   ]
  }
 ],
 "metadata": {
  "kernelspec": {
   "display_name": "Python 3",
   "language": "python",
   "name": "python3"
  },
  "language_info": {
   "codemirror_mode": {
    "name": "ipython",
    "version": 3
   },
   "file_extension": ".py",
   "mimetype": "text/x-python",
   "name": "python",
   "nbconvert_exporter": "python",
   "pygments_lexer": "ipython3",
   "version": "3.8.5"
  }
 },
 "nbformat": 4,
 "nbformat_minor": 4
}
